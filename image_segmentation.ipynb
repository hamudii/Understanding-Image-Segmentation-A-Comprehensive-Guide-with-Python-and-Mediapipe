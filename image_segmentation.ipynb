{
  "cells": [
    {
      "cell_type": "markdown",
      "metadata": {
        "id": "h2q27gKz1H20"
      },
      "source": [
        "##### Copyright 2023 The MediaPipe Authors. All Rights Reserved."
      ]
    },
    {
      "cell_type": "code",
      "execution_count": null,
      "metadata": {
        "cellView": "form",
        "id": "TUfAcER1oUS6"
      },
      "outputs": [],
      "source": [
        "#@title Licensed under the Apache License, Version 2.0 (the \"License\");\n",
        "# you may not use this file except in compliance with the License.\n",
        "# You may obtain a copy of the License at\n",
        "#\n",
        "# https://www.apache.org/licenses/LICENSE-2.0\n",
        "#\n",
        "# Unless required by applicable law or agreed to in writing, software\n",
        "# distributed under the License is distributed on an \"AS IS\" BASIS,\n",
        "# WITHOUT WARRANTIES OR CONDITIONS OF ANY KIND, either express or implied.\n",
        "# See the License for the specific language governing permissions and\n",
        "# limitations under the License."
      ]
    },
    {
      "cell_type": "markdown",
      "metadata": {
        "id": "L_cQX8dWu4Dv"
      },
      "source": [
        "# Image Segmenter"
      ]
    },
    {
      "cell_type": "markdown",
      "metadata": {
        "id": "O6PN9FvIx614"
      },
      "source": [
        "## Imports and Setup\n",
        "Let's start with the base imports for running this MediaPipe sample."
      ]
    },
    {
      "cell_type": "code",
      "execution_count": 1,
      "metadata": {
        "id": "gxbHBsF-8Y_l"
      },
      "outputs": [],
      "source": [
        "!pip install -q mediapipe"
      ]
    },
    {
      "cell_type": "markdown",
      "metadata": {
        "id": "a49D7h4TVmru"
      },
      "source": [
        "## Download the image segmenter model"
      ]
    },
    {
      "cell_type": "markdown",
      "metadata": {
        "id": "QHXsuWDxpOj4"
      },
      "source": [
        "The next thing you will need to do is download the image segmentation model that will be used for this demo. In this case you will use the DeepLab v3 model."
      ]
    },
    {
      "cell_type": "code",
      "execution_count": 1,
      "metadata": {
        "id": "OMjuVQiDYJKF"
      },
      "outputs": [
        {
          "name": "stdout",
          "output_type": "stream",
          "text": [
            "Download completed!\n"
          ]
        }
      ],
      "source": [
        "import requests\n",
        "\n",
        "# URL untuk model dan gambar uji\n",
        "model_url = \"https://storage.googleapis.com/mediapipe-models/image_segmenter/deeplab_v3/float32/1/deeplab_v3.tflite\"\n",
        "\n",
        "# Fungsi untuk mendownload file dari URL\n",
        "def download_file(url, filename):\n",
        "    response = requests.get(url)\n",
        "    with open(filename, 'wb') as file:\n",
        "        file.write(response.content)\n",
        "\n",
        "# Download model deeplabv3.tflite\n",
        "download_file(model_url, \"deeplabv3.tflite\")\n",
        "\n",
        "print(\"Download completed!\")\n"
      ]
    },
    {
      "cell_type": "code",
      "execution_count": null,
      "metadata": {},
      "outputs": [],
      "source": []
    },
    {
      "cell_type": "markdown",
      "metadata": {
        "id": "83PEJNp9yPBU"
      },
      "source": [
        "## Download a test image\n",
        "\n",
        "After downloading the model, it's time to grab an image that you can use for testing! It's worth noting that while this is working with a single image, you can download a collection of images to store in the `IMAGE_FILENAMES` array."
      ]
    },
    {
      "cell_type": "code",
      "execution_count": 2,
      "metadata": {
        "id": "tzXuqyIBlXer"
      },
      "outputs": [],
      "source": [
        "import urllib\n",
        "\n",
        "IMAGE_FILENAMES = ['segmentation_input_rotation0.jpg']\n",
        "\n",
        "for name in IMAGE_FILENAMES:\n",
        "  url = f'https://storage.googleapis.com/mediapipe-assets/{name}'\n",
        "  urllib.request.urlretrieve(url, name)"
      ]
    },
    {
      "cell_type": "markdown",
      "metadata": {
        "id": "P8XRmapjySMN"
      },
      "source": [
        "## Preview the downloaded image"
      ]
    },
    {
      "cell_type": "markdown",
      "metadata": {
        "id": "Eu_q-Z03r-ed"
      },
      "source": [
        "With the test image downloaded, go ahead and display it."
      ]
    },
    {
      "cell_type": "code",
      "execution_count": 5,
      "metadata": {
        "id": "8rjHk72-lmHX"
      },
      "outputs": [
        {
          "name": "stdout",
          "output_type": "stream",
          "text": [
            "image1.jpg\n"
          ]
        }
      ],
      "source": [
        "import cv2\n",
        "import math\n",
        "\n",
        "# Height and width that will be used by the model\n",
        "DESIRED_HEIGHT = 480\n",
        "DESIRED_WIDTH = 480\n",
        "\n",
        "# Performs resizing and showing the image\n",
        "def resize_and_show(image):\n",
        "    h, w = image.shape[:2]\n",
        "    if h < w:\n",
        "        img = cv2.resize(image, (DESIRED_WIDTH, math.floor(h / (w / DESIRED_WIDTH))))\n",
        "    else:\n",
        "        img = cv2.resize(image, (math.floor(w / (h / DESIRED_HEIGHT)), DESIRED_HEIGHT))\n",
        "    cv2.imshow('Resized Image', img)\n",
        "    cv2.waitKey(0)  # Wait until a key is pressed to close the window\n",
        "    cv2.destroyAllWindows()  # Close the image window\n",
        "\n",
        "# List of image filenames (ensure IMAGE_FILENAMES is defined with the filenames)\n",
        "IMAGE_FILENAMES = ['image1.jpg']  # Example filenames\n",
        "\n",
        "# Preview the image(s)\n",
        "images = {name: cv2.imread(name) for name in IMAGE_FILENAMES}\n",
        "for name, image in images.items():\n",
        "    print(name)\n",
        "    resize_and_show(image)\n"
      ]
    },
    {
      "cell_type": "markdown",
      "metadata": {
        "id": "Iy4r2_ePylIa"
      },
      "source": [
        "## Running inference and visualizing the results\n",
        "To run inference using the image segmentation MediaPipe Task, you will need to initialize the `ImageSegmenter` using the model. This example will separate the background and foreground of the image and apply separate colors for them to highlight where each distinctive area exists. Image segmentation here will use a category mask, which applies a category to each found item based on confidence."
      ]
    },
    {
      "cell_type": "code",
      "execution_count": 4,
      "metadata": {
        "id": "Yl_Oiye4mUuo"
      },
      "outputs": [
        {
          "name": "stdout",
          "output_type": "stream",
          "text": [
            "Segmentation mask of image1.jpg:\n"
          ]
        }
      ],
      "source": [
        "import numpy as np\n",
        "import mediapipe as mp\n",
        "\n",
        "from mediapipe.tasks import python\n",
        "from mediapipe.tasks.python import vision\n",
        "\n",
        "\n",
        "BG_COLOR = (192, 192, 192) # gray\n",
        "MASK_COLOR = (255, 255, 255) # white\n",
        "\n",
        "\n",
        "# Create the options that will be used for ImageSegmenter\n",
        "base_options = python.BaseOptions(model_asset_path='deeplabv3.tflite')\n",
        "options = vision.ImageSegmenterOptions(base_options=base_options,\n",
        "                                       output_category_mask=True)\n",
        "\n",
        "# Create the image segmenter\n",
        "with vision.ImageSegmenter.create_from_options(options) as segmenter:\n",
        "\n",
        "  # Loop through demo image(s)\n",
        "  for image_file_name in IMAGE_FILENAMES:\n",
        "\n",
        "    # Create the MediaPipe image file that will be segmented\n",
        "    image = mp.Image.create_from_file(image_file_name)\n",
        "\n",
        "    # Retrieve the masks for the segmented image\n",
        "    segmentation_result = segmenter.segment(image)\n",
        "    category_mask = segmentation_result.category_mask\n",
        "\n",
        "    # Generate solid color images for showing the output segmentation mask.\n",
        "    image_data = image.numpy_view()\n",
        "    fg_image = np.zeros(image_data.shape, dtype=np.uint8)\n",
        "    fg_image[:] = MASK_COLOR\n",
        "    bg_image = np.zeros(image_data.shape, dtype=np.uint8)\n",
        "    bg_image[:] = BG_COLOR\n",
        "\n",
        "    condition = np.stack((category_mask.numpy_view(),) * 3, axis=-1) > 0.2\n",
        "    output_image = np.where(condition, fg_image, bg_image)\n",
        "\n",
        "    print(f'Segmentation mask of {name}:')\n",
        "    resize_and_show(output_image)"
      ]
    },
    {
      "cell_type": "markdown",
      "metadata": {
        "id": "-RxsX2CjJbfo"
      },
      "source": [
        "Now that you know how to separate the foreground and background of an image, let's take it a step further and blur the background for an effect similar to what is provided by Google Hangouts."
      ]
    },
    {
      "cell_type": "code",
      "execution_count": 6,
      "metadata": {
        "id": "ciCGwCQ3gNDc"
      },
      "outputs": [
        {
          "name": "stdout",
          "output_type": "stream",
          "text": [
            "Blurred background of image1.jpg:\n"
          ]
        }
      ],
      "source": [
        "# Blur the image background based on the segmentation mask.\n",
        "\n",
        "# Create the segmenter\n",
        "with python.vision.ImageSegmenter.create_from_options(options) as segmenter:\n",
        "\n",
        "  # Loop through available image(s)\n",
        "  for image_file_name in IMAGE_FILENAMES:\n",
        "\n",
        "    # Create the MediaPipe Image\n",
        "    image = mp.Image.create_from_file(image_file_name)\n",
        "\n",
        "    # Retrieve the category masks for the image\n",
        "    segmentation_result = segmenter.segment(image)\n",
        "    category_mask = segmentation_result.category_mask\n",
        "\n",
        "    # Convert the BGR image to RGB\n",
        "    image_data = cv2.cvtColor(image.numpy_view(), cv2.COLOR_BGR2RGB)\n",
        "\n",
        "    # Apply effects\n",
        "    blurred_image = cv2.GaussianBlur(image_data, (55,55), 0)\n",
        "    condition = np.stack((category_mask.numpy_view(),) * 3, axis=-1) > 0.1\n",
        "    output_image = np.where(condition, image_data, blurred_image)\n",
        "\n",
        "    print(f'Blurred background of {image_file_name}:')\n",
        "    resize_and_show(output_image)"
      ]
    },
    {
      "cell_type": "code",
      "execution_count": 7,
      "metadata": {},
      "outputs": [
        {
          "name": "stdout",
          "output_type": "stream",
          "text": [
            "Applied blue background to image1.jpg:\n"
          ]
        }
      ],
      "source": [
        "# Create the segmenter\n",
        "with python.vision.ImageSegmenter.create_from_options(options) as segmenter:\n",
        "\n",
        "    # Loop through available image(s)\n",
        "    for image_file_name in IMAGE_FILENAMES:\n",
        "\n",
        "        # Create the MediaPipe Image\n",
        "        image = mp.Image.create_from_file(image_file_name)\n",
        "\n",
        "        # Retrieve the category masks for the image\n",
        "        segmentation_result = segmenter.segment(image)\n",
        "        category_mask = segmentation_result.category_mask\n",
        "\n",
        "        # Convert the BGR image to RGB\n",
        "        image_data = cv2.cvtColor(image.numpy_view(), cv2.COLOR_BGR2RGB)\n",
        "\n",
        "        # Create a blue background\n",
        "        blue_background = np.zeros_like(image_data)\n",
        "        blue_background[:, :] = [0, 0, 255]  # RGB color for blue\n",
        "\n",
        "        # Create a condition mask from the category mask\n",
        "        condition = np.stack((category_mask.numpy_view(),) * 3, axis=-1) > 0.1\n",
        "\n",
        "        # Apply the blue background to non-segmented areas\n",
        "        output_image = np.where(condition, image_data, blue_background)\n",
        "\n",
        "        print(f'Applied blue background to {image_file_name}:')\n",
        "        resize_and_show(output_image)\n"
      ]
    },
    {
      "cell_type": "code",
      "execution_count": 8,
      "metadata": {
        "id": "8evBYbOZk6u4"
      },
      "outputs": [],
      "source": [
        "#blurring\n",
        "\n",
        "import cv2\n",
        "import numpy as np\n",
        "import mediapipe as mp\n",
        "from mediapipe.tasks import python\n",
        "from mediapipe.tasks.python import vision\n",
        "\n",
        "# Define constants for desired height and width\n",
        "DESIRED_HEIGHT = 480\n",
        "DESIRED_WIDTH = 480\n",
        "\n",
        "BG_COLOR = (192, 192, 192)  # gray\n",
        "\n",
        "# Create the options for ImageSegmenter\n",
        "base_options = python.BaseOptions(model_asset_path='deeplabv3.tflite')\n",
        "options = vision.ImageSegmenterOptions(base_options=base_options, output_category_mask=True)\n",
        "\n",
        "# Create the image segmenter\n",
        "with vision.ImageSegmenter.create_from_options(options) as segmenter:\n",
        "\n",
        "    # Capture video from webcam\n",
        "    vid = cv2.VideoCapture(0, cv2.CAP_DSHOW)\n",
        "    \n",
        "    if not vid.isOpened():\n",
        "        print(\"Error opening the video file\")\n",
        "        exit()\n",
        "\n",
        "    while vid.isOpened():\n",
        "        ret, frame = vid.read()\n",
        "        if not ret:\n",
        "            break\n",
        "\n",
        "        # Convert the frame to RGB as required by MediaPipe\n",
        "        frame_rgb = cv2.cvtColor(frame, cv2.COLOR_BGR2RGB)\n",
        "        \n",
        "        # Create MediaPipe image from frame\n",
        "        image = mp.Image(image_format=mp.ImageFormat.SRGB, data=frame_rgb)\n",
        "        \n",
        "        # Perform segmentation\n",
        "        segmentation_result = segmenter.segment(image)\n",
        "        category_mask = segmentation_result.category_mask\n",
        "\n",
        "        # Convert back to BGR for OpenCV processing\n",
        "        frame_bgr = cv2.cvtColor(frame_rgb, cv2.COLOR_RGB2BGR)\n",
        "\n",
        "        # Apply Gaussian blur to the background\n",
        "        blurred_image = cv2.GaussianBlur(frame_bgr, (55, 55), 0)\n",
        "        \n",
        "        # Create a condition for where the foreground is\n",
        "        condition = np.stack((category_mask.numpy_view(),) * 3, axis=-1) > 0.1\n",
        "        \n",
        "        # Create the output image by blending the original frame and the blurred image\n",
        "        output_image = np.where(condition, frame_bgr, blurred_image)\n",
        "\n",
        "        # Display the resulting frame\n",
        "        cv2.imshow('Segmented Video', output_image)\n",
        "\n",
        "        # Press 'q' to exit the loop\n",
        "        if cv2.waitKey(1) & 0xFF == ord('q'):\n",
        "            break\n",
        "\n",
        "    # Release the video capture object and close display window\n",
        "    vid.release()\n",
        "    cv2.destroyAllWindows()\n"
      ]
    },
    {
      "cell_type": "code",
      "execution_count": 9,
      "metadata": {},
      "outputs": [],
      "source": [
        "#warna merah\n",
        "\n",
        "import cv2\n",
        "import numpy as np\n",
        "import mediapipe as mp\n",
        "from mediapipe.tasks import python\n",
        "from mediapipe.tasks.python import vision\n",
        "\n",
        "# Define constants for desired height and width\n",
        "DESIRED_HEIGHT = 480\n",
        "DESIRED_WIDTH = 480\n",
        "\n",
        "BG_COLOR = (0, 0, 255)  # blue\n",
        "\n",
        "# Create the options for ImageSegmenter\n",
        "base_options = python.BaseOptions(model_asset_path='deeplabv3.tflite')\n",
        "options = vision.ImageSegmenterOptions(base_options=base_options, output_category_mask=True)\n",
        "\n",
        "# Create the image segmenter\n",
        "with vision.ImageSegmenter.create_from_options(options) as segmenter:\n",
        "\n",
        "    # Capture video from webcam\n",
        "    vid = cv2.VideoCapture(0, cv2.CAP_DSHOW)\n",
        "    \n",
        "    if not vid.isOpened():\n",
        "        print(\"Error opening the video file\")\n",
        "        exit()\n",
        "\n",
        "    while vid.isOpened():\n",
        "        ret, frame = vid.read()\n",
        "        if not ret:\n",
        "            break\n",
        "\n",
        "        # Convert the frame to RGB as required by MediaPipe\n",
        "        frame_rgb = cv2.cvtColor(frame, cv2.COLOR_BGR2RGB)\n",
        "        \n",
        "        # Create MediaPipe image from frame\n",
        "        image = mp.Image(image_format=mp.ImageFormat.SRGB, data=frame_rgb)\n",
        "        \n",
        "        # Perform segmentation\n",
        "        segmentation_result = segmenter.segment(image)\n",
        "        category_mask = segmentation_result.category_mask\n",
        "\n",
        "        # Convert back to BGR for OpenCV processing\n",
        "        frame_bgr = cv2.cvtColor(frame_rgb, cv2.COLOR_RGB2BGR)\n",
        "\n",
        "        # Create a blue background\n",
        "        blue_background = np.zeros_like(frame_bgr)\n",
        "        blue_background[:] = BG_COLOR\n",
        "\n",
        "        # Create a condition for where the foreground is\n",
        "        condition = np.stack((category_mask.numpy_view(),) * 3, axis=-1) > 0.1\n",
        "        \n",
        "        # Create the output image by applying the blue background to non-segmented areas\n",
        "        output_image = np.where(condition, frame_bgr, blue_background)\n",
        "\n",
        "        # Display the resulting frame\n",
        "        cv2.imshow('Segmented Video', output_image)\n",
        "\n",
        "        # Press 'q' to exit the loop\n",
        "        if cv2.waitKey(1) & 0xFF == ord('q'):\n",
        "            break\n",
        "\n",
        "    # Release the video capture object and close display window\n",
        "    vid.release()\n",
        "    cv2.destroyAllWindows()\n"
      ]
    },
    {
      "cell_type": "code",
      "execution_count": 2,
      "metadata": {},
      "outputs": [
        {
          "name": "stderr",
          "output_type": "stream",
          "text": [
            "C:\\Users\\mohsu\\AppData\\Local\\Temp\\ipykernel_3400\\2492564920.py:34: DeprecationWarning: textsize is deprecated and will be removed in Pillow 10 (2023-07-01). Use textbbox or textlength instead.\n",
            "  text_width, text_height = draw.textsize(title, font=font)\n",
            "C:\\Users\\mohsu\\AppData\\Local\\Temp\\ipykernel_3400\\2492564920.py:34: DeprecationWarning: textsize is deprecated and will be removed in Pillow 10 (2023-07-01). Use textbbox or textlength instead.\n",
            "  text_width, text_height = draw.textsize(title, font=font)\n",
            "C:\\Users\\mohsu\\AppData\\Local\\Temp\\ipykernel_3400\\2492564920.py:34: DeprecationWarning: textsize is deprecated and will be removed in Pillow 10 (2023-07-01). Use textbbox or textlength instead.\n",
            "  text_width, text_height = draw.textsize(title, font=font)\n"
          ]
        },
        {
          "data": {
            "image/png": "[encoded data removed]",
            "text/plain": [
              "<Figure size 640x480 with 1 Axes>"
            ]
          },
          "metadata": {},
          "output_type": "display_data"
        }
      ],
      "source": [
        "from PIL import Image, ImageDraw, ImageFont\n",
        "import matplotlib.pyplot as plt\n",
        "\n",
        "# Load the provided image\n",
        "image_path = \"types-of-image-segmentation-1.webp\"\n",
        "original_image = Image.open(image_path)\n",
        "\n",
        "# Create the titles\n",
        "titles = [\"SEMANTIC IMAGE SEGMENTATION\", \"INSTANCE SEGMENTATION\", \"PANOPTIC SEGMENTATION\"]\n",
        "\n",
        "# Define the size of each segment (assuming equal width and height)\n",
        "segment_width = original_image.width // 3\n",
        "segment_height = original_image.height\n",
        "\n",
        "# Create a new blank image with the same height as the original and width as three segments\n",
        "new_image = Image.new('RGB', (original_image.width, original_image.height), (255, 255, 255))\n",
        "\n",
        "# Create font object\n",
        "try:\n",
        "    font = ImageFont.truetype(\"arial.ttf\", 20)\n",
        "except IOError:\n",
        "    font = ImageFont.load_default()\n",
        "\n",
        "# Draw the segments\n",
        "draw = ImageDraw.Draw(new_image)\n",
        "for i, title in enumerate(titles):\n",
        "    # Crop the segment from the original image\n",
        "    segment = original_image.crop((i * segment_width, 0, (i + 1) * segment_width, segment_height))\n",
        "    \n",
        "    # Paste the segment into the new image\n",
        "    new_image.paste(segment, (i * segment_width, 0))\n",
        "    \n",
        "    # Add the title below each segment\n",
        "    text_width, text_height = draw.textsize(title, font=font)\n",
        "    text_x = i * segment_width + (segment_width - text_width) // 2\n",
        "    text_y = segment_height - text_height - 10\n",
        "    draw.text((text_x, text_y), title, fill=\"black\", font=font)\n",
        "\n",
        "# Show the new image\n",
        "plt.imshow(new_image)\n",
        "plt.axis('off')  # Hide axes\n",
        "plt.show()\n"
      ]
    }
  ],
  "metadata": {
    "colab": {
      "provenance": []
    },
    "kernelspec": {
      "display_name": "Python 3 (ipykernel)",
      "language": "python",
      "name": "python3"
    },
    "language_info": {
      "codemirror_mode": {
        "name": "ipython",
        "version": 3
      },
      "file_extension": ".py",
      "mimetype": "text/x-python",
      "name": "python",
      "nbconvert_exporter": "python",
      "pygments_lexer": "ipython3",
      "version": "3.11.4"
    }
  },
  "nbformat": 4,
  "nbformat_minor": 0
}
